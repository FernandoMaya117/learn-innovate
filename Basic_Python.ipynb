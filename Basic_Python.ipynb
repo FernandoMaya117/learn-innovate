{
  "nbformat": 4,
  "nbformat_minor": 0,
  "metadata": {
    "colab": {
      "name": "Basic Python.ipynb",
      "provenance": [],
      "authorship_tag": "ABX9TyPCMzgfYB25SYDAVOXqO3ef",
      "include_colab_link": true
    },
    "kernelspec": {
      "name": "python3",
      "display_name": "Python 3"
    },
    "language_info": {
      "name": "python"
    }
  },
  "cells": [
    {
      "cell_type": "markdown",
      "metadata": {
        "id": "view-in-github",
        "colab_type": "text"
      },
      "source": [
        "<a href=\"https://colab.research.google.com/github/FernandoMaya117/learn-innovate/blob/main/Basic_Python.ipynb\" target=\"_parent\"><img src=\"https://colab.research.google.com/assets/colab-badge.svg\" alt=\"Open In Colab\"/></a>"
      ]
    },
    {
      "cell_type": "markdown",
      "metadata": {
        "id": "DjWBI8Vm0dMt"
      },
      "source": [
        "#**Python**\n",
        "##**History**\n",
        "Python is a widely-used, interpreted, object-oriented, and high-level programming language with dynamic semantics, used for general-purpose programming. It was created by Guido van Rossum, and first released on February 20, 1991.\n"
      ]
    },
    {
      "cell_type": "markdown",
      "metadata": {
        "id": "FLiTNZ2bPdOO"
      },
      "source": [
        "![Python](https://encrypted-tbn0.gstatic.com/images?q=tbn:ANd9GcT_ZTJCHWnSY9OjyiNvUlkP4zcUTrsL4g_T12mq891LW9fCjaJa86zxifzTf7Xvs4ZtCSE&usqp=CAU)"
      ]
    },
    {
      "cell_type": "markdown",
      "metadata": {
        "id": "AgSNsf8DGwnj"
      },
      "source": [
        "One of the amazing features of Python is the fact that it is actually one person’s work. Usually, new programming languages are developed and published by large companies employing lots of professionals, and due to copyright rules, it is very hard to name any of the people involved in the project. Python is an exception.\n",
        "\n",
        "Of course, van Rossum did not develop and evolve all the Python components himself. The speed with which Python has spread around the world is a result of the continuous work of thousands (very often anonymous) programmers, testers, users (many of them aren’t IT specialists) and enthusiasts, but it must be said that the very first idea (the seed from which Python sprouted) came to one head – Guido’s."
      ]
    },
    {
      "cell_type": "markdown",
      "metadata": {
        "id": "6lbSxYBuQr7s"
      },
      "source": [
        "###**Python goals**\n",
        "\n",
        "In 1999, Guido van Rossum defined his goals for Python:\n",
        "\n",
        "an easy and intuitive language just as powerful as those of the major competitors;\n",
        "open source, so anyone can contribute to its development;\n",
        "code that is as understandable as plain English;\n",
        "suitable for everyday tasks, allowing for short development times.\n",
        "About 20 years later, it is clear that all these intentions have been fulfilled. Some sources say that Python is the third-most popular programming language in the world, while others claim it’s the fifth."
      ]
    },
    {
      "cell_type": "markdown",
      "metadata": {
        "id": "rI_g_LQzyQJv"
      },
      "source": [
        "##**How to display a text in Python?**\n",
        "We write \"print\", then we open parentheses, following some quotes and inside the quotes goes the text"
      ]
    },
    {
      "cell_type": "code",
      "metadata": {
        "colab": {
          "base_uri": "https://localhost:8080/"
        },
        "id": "3ufw_dfwTtsN",
        "outputId": "3e45811a-5762-4baa-e783-a2b4bf1d66b2"
      },
      "source": [
        "print(\"Hello world\")"
      ],
      "execution_count": null,
      "outputs": [
        {
          "output_type": "stream",
          "name": "stdout",
          "text": [
            "Hello world\n"
          ]
        }
      ]
    },
    {
      "cell_type": "markdown",
      "metadata": {
        "id": "c1ScdP6GUwF8"
      },
      "source": [
        "###Librarys\n",
        "Python is not like other languages, this one already has built-in libraries, at least the most common ones."
      ]
    },
    {
      "cell_type": "markdown",
      "metadata": {
        "id": "LXjCgZCnwu-M"
      },
      "source": [
        "##**Comments**\n",
        "These are used to remember what the program does in that section without having to analyze the entire program. Comments do not appear when the program is executed.\n",
        "There are one-line comments, using #\n"
      ]
    },
    {
      "cell_type": "code",
      "metadata": {
        "colab": {
          "base_uri": "https://localhost:8080/"
        },
        "id": "p49ZV2JUxV_u",
        "outputId": "12211d9a-f2b8-444d-b70b-d3b28b09f285"
      },
      "source": [
        "print(\"Hello my name is Maya\")\n",
        "# The function print is used for show a result or text\n",
        "\n"
      ],
      "execution_count": null,
      "outputs": [
        {
          "output_type": "stream",
          "name": "stdout",
          "text": [
            "Hello my name is Maya\n"
          ]
        }
      ]
    },
    {
      "cell_type": "markdown",
      "metadata": {
        "id": "sIYIjrfex9_n"
      },
      "source": [
        "##**Aritmeric Operations**"
      ]
    },
    {
      "cell_type": "code",
      "metadata": {
        "colab": {
          "base_uri": "https://localhost:8080/"
        },
        "id": "8Yuvwc4UVPs7",
        "outputId": "7ed624b4-b1ec-47b1-b6b9-0cd50b7b3e9e"
      },
      "source": [
        "print(2+8)"
      ],
      "execution_count": null,
      "outputs": [
        {
          "output_type": "stream",
          "name": "stdout",
          "text": [
            "10\n"
          ]
        }
      ]
    },
    {
      "cell_type": "code",
      "metadata": {
        "colab": {
          "base_uri": "https://localhost:8080/"
        },
        "id": "JB5Kdh6ZVkEa",
        "outputId": "fad81921-a430-4a5e-9768-353b490351e2"
      },
      "source": [
        "print(8-2)"
      ],
      "execution_count": null,
      "outputs": [
        {
          "output_type": "stream",
          "name": "stdout",
          "text": [
            "6\n"
          ]
        }
      ]
    },
    {
      "cell_type": "code",
      "metadata": {
        "colab": {
          "base_uri": "https://localhost:8080/"
        },
        "id": "lSSbekJvVsBJ",
        "outputId": "f6d53c73-c15d-4821-dc04-797ad356d67d"
      },
      "source": [
        "print(8*2)"
      ],
      "execution_count": null,
      "outputs": [
        {
          "output_type": "stream",
          "name": "stdout",
          "text": [
            "16\n"
          ]
        }
      ]
    },
    {
      "cell_type": "code",
      "metadata": {
        "colab": {
          "base_uri": "https://localhost:8080/"
        },
        "id": "f3A2yQo0V2kw",
        "outputId": "2031b958-acc1-4768-f444-f3b90b25fee6"
      },
      "source": [
        "print(8/2)"
      ],
      "execution_count": null,
      "outputs": [
        {
          "output_type": "stream",
          "name": "stdout",
          "text": [
            "4.0\n"
          ]
        }
      ]
    },
    {
      "cell_type": "markdown",
      "metadata": {
        "id": "0octutfDWB85"
      },
      "source": [
        "You only write the print and inside the parentheses, **without quotes** and by putting the operational signs the program already knows what it has to do and prints them automatically without declaring a variable"
      ]
    },
    {
      "cell_type": "markdown",
      "metadata": {
        "id": "ocUSXYgDXGfi"
      },
      "source": [
        "##**Relational Operators**\n",
        "Relational operators are symbols used to compare two values. If the result of the comparison is correct, the considered expression is true, otherwise it is false.\n",
        "\n",
        "\"<\" smaller than\n",
        "\n",
        "\">\" greater than\n",
        "\n",
        "\"<=\" less than or equal to\n",
        "\n",
        "\">=\" greater than or equal to\n",
        "\n"
      ]
    },
    {
      "cell_type": "code",
      "metadata": {
        "colab": {
          "base_uri": "https://localhost:8080/"
        },
        "id": "h8sA3qPVc3xC",
        "outputId": "ba6e350c-0b29-4844-e859-012b64b03e61"
      },
      "source": [
        "print(7>5)"
      ],
      "execution_count": null,
      "outputs": [
        {
          "output_type": "stream",
          "name": "stdout",
          "text": [
            "True\n"
          ]
        }
      ]
    },
    {
      "cell_type": "markdown",
      "metadata": {
        "id": "csT4U5rUdE1a"
      },
      "source": [
        "Since 7 is greater than 5 the program returns that it is true"
      ]
    },
    {
      "cell_type": "markdown",
      "metadata": {
        "id": "Volz6ApYdwDx"
      },
      "source": [
        "When you use relational operators, the basic operations (addition, subtraction, multiplication, division) are performed first and then the operators."
      ]
    },
    {
      "cell_type": "code",
      "metadata": {
        "colab": {
          "base_uri": "https://localhost:8080/"
        },
        "id": "SJGif_wGdZNM",
        "outputId": "62edfea8-4bdc-4aea-ce7f-41cf95c6a64c"
      },
      "source": [
        "print(5*2<80/20)"
      ],
      "execution_count": null,
      "outputs": [
        {
          "output_type": "stream",
          "name": "stdout",
          "text": [
            "False\n"
          ]
        }
      ]
    },
    {
      "cell_type": "markdown",
      "metadata": {
        "id": "cM191TRg3Y5h"
      },
      "source": [
        "##**Logical operators**\n",
        "\n",
        "It allows to build logical expressions and from them we obtain Boolean results (true or false)\n",
        "There are three logical operators, the AND, NOT and the OR.\n",
        "IN THE AND that in python is written \"and\" the data that is compared must be both true.\n",
        "In the OR, \"or\" only one must be true to give a true result as well. If there are two false, the result is false.\n",
        "And in the NOT \"not\", if you deny a true result it gives you false, and if you deny a false it returns a true one.\n",
        "When you have several operators (as in the hierarchy of operations) they result in a certain order, first the NOT, followed by the AND and finally the OR"
      ]
    },
    {
      "cell_type": "code",
      "metadata": {
        "colab": {
          "base_uri": "https://localhost:8080/"
        },
        "id": "QBg_XcxC3kZr",
        "outputId": "655e9c00-e21b-4025-de95-2f270b60502b"
      },
      "source": [
        "A=5\n",
        "B=6\n",
        "C=8\n",
        "ABC = ((A<C)and(C>=B))\n",
        "print(ABC)\n",
        "ABC = ((A<C)and(C>=B)or(B<A))\n",
        "print(ABC)"
      ],
      "execution_count": null,
      "outputs": [
        {
          "output_type": "stream",
          "name": "stdout",
          "text": [
            "True\n",
            "True\n"
          ]
        }
      ]
    },
    {
      "cell_type": "markdown",
      "metadata": {
        "id": "2d73SBp05AiQ"
      },
      "source": [
        "In Python if you declare a variable with some value and print it and then declare it again with another value and print it again, it will show you the two values ​​of the same variable"
      ]
    },
    {
      "cell_type": "markdown",
      "metadata": {
        "id": "1mUdrihrea8P"
      },
      "source": [
        "##**Variable declaretion**\n",
        "To declare a variable in Python, you just have to write it, without the print and without quotes.\n",
        "It is not necessary to declare what type of variable it is, the program itself identifies if it is, float, integer, char, among others."
      ]
    },
    {
      "cell_type": "code",
      "metadata": {
        "colab": {
          "base_uri": "https://localhost:8080/"
        },
        "id": "te7ec7wYf0DQ",
        "outputId": "ed0c1623-d206-4c9b-cc1b-d88f4284ce9a"
      },
      "source": [
        "suma= 5+5\n",
        "print(suma)"
      ],
      "execution_count": null,
      "outputs": [
        {
          "output_type": "stream",
          "name": "stdout",
          "text": [
            "10\n"
          ]
        }
      ]
    },
    {
      "cell_type": "markdown",
      "metadata": {
        "id": "vjdICQYbqLMB"
      },
      "source": [
        "##**Text and Variables**\n"
      ]
    },
    {
      "cell_type": "markdown",
      "metadata": {
        "id": "FfzzsZAXtc5n"
      },
      "source": [
        "In Python to display variables and texts in the same line, there are 2 ways.\n",
        "\n",
        "The **first** is to put an \"f\" just after opening the quotation marks, then the quotation marks go, add the text, open brackets, add your variable, close brackets and quotation marks.\n",
        "\n",
        "The **second** is to put the text in quotes, then a \",\" and add your variable, then put the comma and add the other text in quotes."
      ]
    },
    {
      "cell_type": "code",
      "metadata": {
        "colab": {
          "base_uri": "https://localhost:8080/"
        },
        "id": "rUbKOimIqdom",
        "outputId": "2bfac243-7f3f-4dfc-9ba2-265e3f53ab97"
      },
      "source": [
        "Name= \"Fernando_Maya\"\n",
        "Age= 18\n",
        "print(f\"My name is {Name}\", \"and I'm\", Age, \"years old\")"
      ],
      "execution_count": null,
      "outputs": [
        {
          "output_type": "stream",
          "name": "stdout",
          "text": [
            "My name is Fernando_Maya and I'm 18 years old\n"
          ]
        }
      ]
    },
    {
      "cell_type": "markdown",
      "metadata": {
        "id": "F7hyc5u8sEeH"
      },
      "source": [
        "##**Input data**\n",
        "\n",
        "To enter data to the console, you have to declare a variable then you write the word \"input\" this will save the data you write. Then as if it were a normal print (but without putting the print) you put the text, with which it will ask for the data that you want the user to enter."
      ]
    },
    {
      "cell_type": "code",
      "metadata": {
        "colab": {
          "base_uri": "https://localhost:8080/"
        },
        "id": "2RnJmldawBOA",
        "outputId": "5cef8275-4986-4c13-b26f-77f8edcf138a"
      },
      "source": [
        "career= input(\"what are you studying?\")\n",
        "print(career, \"it sounds like it is complicated but interesting\")"
      ],
      "execution_count": null,
      "outputs": [
        {
          "output_type": "stream",
          "name": "stdout",
          "text": [
            "what are you studying?Mecatronic\n",
            "Mecatronic it sounds like it is complicated but interesting\n"
          ]
        }
      ]
    },
    {
      "cell_type": "markdown",
      "metadata": {
        "id": "SST1KNukqXMI"
      },
      "source": [
        "##**Conditionals**\n",
        "The conditionals are the ones that do an action, just after having evaluated the relational and logical operators.\n",
        "###**If-Else**\n",
        "In an If when the condition is added and it is true, it does an action. Just as we have an action for if it is true, the ELSE will indicate what action is going to be performed if the condition is false."
      ]
    },
    {
      "cell_type": "code",
      "metadata": {
        "colab": {
          "base_uri": "https://localhost:8080/"
        },
        "id": "cFgSJOor-1Mn",
        "outputId": "a1b5ce10-0d2e-4497-acf1-0162aefcac38"
      },
      "source": [
        "print(\"Ages\")\n",
        "Pedro=18\n",
        "Juan=25\n",
        "Pablo=30\n",
        "if Pablo>Juan and Pablo>Pedro:\n",
        "  print(\"Pablo is greater than Pedro and Juan\")"
      ],
      "execution_count": null,
      "outputs": [
        {
          "output_type": "stream",
          "name": "stdout",
          "text": [
            "Ages\n",
            "Pablo is greater than Pedro and Juan\n"
          ]
        }
      ]
    },
    {
      "cell_type": "code",
      "metadata": {
        "colab": {
          "base_uri": "https://localhost:8080/"
        },
        "id": "ZlR0Cik0AcCN",
        "outputId": "40393e3a-265a-495d-b112-a90f3b7a6c56"
      },
      "source": [
        "print(\"Ages\")\n",
        "Pedro=18\n",
        "Juan=25\n",
        "#In these case if you must declarate the variable\n",
        "Age= int(input(\"how old are you\"))\n",
        "# After the condition you must put a colon (:) these indicate that the condition has already closed. After the if, everything that has an indentation will be taken as going inside the if\n",
        "if Age>Juan and Age>Pedro:\n",
        "  print(\"You are is greater than Pedro and Juan\")\n",
        "else:\n",
        "     print(\"You are less than Juan or Predro\")"
      ],
      "execution_count": null,
      "outputs": [
        {
          "output_type": "stream",
          "name": "stdout",
          "text": [
            "Ages\n",
            "how old are you18\n",
            "You are less than Juan or Predro\n"
          ]
        }
      ]
    },
    {
      "cell_type": "markdown",
      "metadata": {
        "id": "x50R247LDy46"
      },
      "source": [
        "##**Elif Coditional**\n",
        "The elif statemet is used to include a second condition in case the first one is not fulfilled"
      ]
    },
    {
      "cell_type": "code",
      "metadata": {
        "colab": {
          "base_uri": "https://localhost:8080/"
        },
        "id": "zqk5jkpUELWy",
        "outputId": "4a450faf-b127-4912-f7f2-ca75b18f3dba"
      },
      "source": [
        "a=10\n",
        "b=20\n",
        "c=30\n",
        "if a>b and a>c:\n",
        "  print(\"a is greater than b and c\")\n",
        "elif b>a and b>c:\n",
        "  print(\"b is grater than a and c\")\n",
        "else:\n",
        "  print(\"c is greayer\")"
      ],
      "execution_count": null,
      "outputs": [
        {
          "output_type": "stream",
          "name": "stdout",
          "text": [
            "c is greayer\n"
          ]
        }
      ]
    },
    {
      "cell_type": "markdown",
      "metadata": {
        "id": "uOiCTCCyFX1h"
      },
      "source": [
        "##**List**\n",
        "Variable that can be used to store more than one value at the same time. The structure of a list is: name_of_the_list = [value1, value 2, value3]. To take a value from a list, you need to know its position. for example: name_of_the_list = [position].\n",
        "The lists begin with the index 0 that is to say that to show position 1 you have to put 0, to show position 3 you have to put 2, that is, to know the number that you are going to put inside the brackets of the print, you have to use this formula\n",
        "position-1"
      ]
    },
    {
      "cell_type": "code",
      "metadata": {
        "colab": {
          "base_uri": "https://localhost:8080/"
        },
        "id": "FNtEvBiXF97j",
        "outputId": "971964bb-f577-4a76-fcf9-4450d92712ba"
      },
      "source": [
        "group= [\"a\", \"b\", \"c\"]\n",
        "participation= [\"1\",\"2\", \"3\"]\n",
        "print(\"The number of participation of group\",group[2])\n",
        "print(\"is\", participation[2])"
      ],
      "execution_count": 1,
      "outputs": [
        {
          "output_type": "stream",
          "name": "stdout",
          "text": [
            "The number of participation of group c\n",
            "is 3\n"
          ]
        }
      ]
    },
    {
      "cell_type": "markdown",
      "metadata": {
        "id": "vpXSuVxsHeT4"
      },
      "source": [
        "##**Loop**\n",
        "A loop is several lines of code that will be repeated a certain or indeterminate number of times"
      ]
    },
    {
      "cell_type": "markdown",
      "metadata": {
        "id": "QpCtY7WZhpiG"
      },
      "source": [
        "![Bucle](https://ideascale.com/wp-content/uploads/2018/02/java_iterate-1.jpg)"
      ]
    },
    {
      "cell_type": "markdown",
      "metadata": {
        "id": "9wNJEwG1ig-U"
      },
      "source": [
        "##**While loop**\n",
        "\n",
        "It is known to have an indeterminate number of repetitions.\n",
        "For it to be executed, a condition must be met and it is repeated indefinitely."
      ]
    },
    {
      "cell_type": "code",
      "metadata": {
        "colab": {
          "base_uri": "https://localhost:8080/"
        },
        "id": "yAboEcDAj9r8",
        "outputId": "8b37fd2e-6695-4306-ab1f-ac907901595a"
      },
      "source": [
        "# first declare a variable and request the data, in this case a number\n",
        "\n",
        "Age= int(input(\"write you age: \"))\n",
        "while Age<18:\n",
        "  print(\"You cannot continue. You are a minor.\")\n",
        "  Age= int(input(\"write you age: \"))\n",
        "  #If you want to get out of the loop, you just have to remove the bleed\n",
        "print(\"You can continue. Welcome\")"
      ],
      "execution_count": 2,
      "outputs": [
        {
          "output_type": "stream",
          "name": "stdout",
          "text": [
            "write you age: 17\n",
            "You cannot continue. You are a minor.\n",
            "write you age: 18\n",
            "You can continue. Welcome\n"
          ]
        }
      ]
    },
    {
      "cell_type": "markdown",
      "metadata": {
        "id": "ZeCEjdfWn40o"
      },
      "source": [
        "##**Determined While Loop**\n",
        "For a given cycle an iterator variable is declared"
      ]
    },
    {
      "cell_type": "code",
      "metadata": {
        "colab": {
          "base_uri": "https://localhost:8080/"
        },
        "id": "y61H4TUDn8YD",
        "outputId": "cd154cdd-eef4-4ad0-c358-4600fb671e63"
      },
      "source": [
        "i=0\n",
        "#For the regular the iterator variable is \"i\" and igual to 0\n",
        "while i<11:\n",
        "  print(\"follow me on Instagram\")\n",
        "  i += 1"
      ],
      "execution_count": 3,
      "outputs": [
        {
          "output_type": "stream",
          "name": "stdout",
          "text": [
            "follow me on Instagram\n",
            "follow me on Instagram\n",
            "follow me on Instagram\n",
            "follow me on Instagram\n",
            "follow me on Instagram\n",
            "follow me on Instagram\n",
            "follow me on Instagram\n",
            "follow me on Instagram\n",
            "follow me on Instagram\n",
            "follow me on Instagram\n",
            "follow me on Instagram\n"
          ]
        }
      ]
    },
    {
      "cell_type": "code",
      "metadata": {
        "colab": {
          "base_uri": "https://localhost:8080/"
        },
        "id": "eNcJBasiplO_",
        "outputId": "91cb8851-9222-403f-b8e4-0d354a7b39ea"
      },
      "source": [
        "i=0\n",
        "while i<10:\n",
        "  print(i)\n",
        "  i+=1"
      ],
      "execution_count": 4,
      "outputs": [
        {
          "output_type": "stream",
          "name": "stdout",
          "text": [
            "0\n",
            "1\n",
            "2\n",
            "3\n",
            "4\n",
            "5\n",
            "6\n",
            "7\n",
            "8\n",
            "9\n"
          ]
        }
      ]
    },
    {
      "cell_type": "markdown",
      "metadata": {
        "id": "F-eW5kEZqCtg"
      },
      "source": [
        "##**For loop**\n",
        "This loop is known to have a certain number of iterations"
      ]
    },
    {
      "cell_type": "code",
      "metadata": {
        "colab": {
          "base_uri": "https://localhost:8080/"
        },
        "id": "M2xKLdgrqoB-",
        "outputId": "ba4fcc8f-44a8-4d5e-b48a-7174141c2d49"
      },
      "source": [
        "#For\n",
        "\n",
        "for i in [1,2,3,4,5]:\n",
        "  print(\"Hello\")"
      ],
      "execution_count": 5,
      "outputs": [
        {
          "output_type": "stream",
          "name": "stdout",
          "text": [
            "Hello\n",
            "Hello\n",
            "Hello\n",
            "Hello\n",
            "Hello\n"
          ]
        }
      ]
    },
    {
      "cell_type": "code",
      "metadata": {
        "colab": {
          "base_uri": "https://localhost:8080/"
        },
        "id": "PxAz52lCrsCs",
        "outputId": "f4ff067d-7911-47b3-9da4-21fdbd8204e6"
      },
      "source": [
        "for i in [\"Hello\", \"Maya\", 1, 2, 9]:\n",
        "  print(\"Hi\")\n",
        "  "
      ],
      "execution_count": 9,
      "outputs": [
        {
          "output_type": "stream",
          "name": "stdout",
          "text": [
            "Hi\n",
            "Hi\n",
            "Hi\n",
            "Hi\n",
            "Hi\n"
          ]
        }
      ]
    },
    {
      "cell_type": "code",
      "metadata": {
        "colab": {
          "base_uri": "https://localhost:8080/"
        },
        "id": "_V2gaPL6s_1u",
        "outputId": "faa1b484-a847-47ac-d0e6-c0ef26c523e6"
      },
      "source": [
        "for i in [\"Hello\", \"Maya\", 1, 2, 9]:\n",
        "  print(f\"Data: {i}\" )\n"
      ],
      "execution_count": 10,
      "outputs": [
        {
          "output_type": "stream",
          "name": "stdout",
          "text": [
            "Data: Hello\n",
            "Data: Maya\n",
            "Data: 1\n",
            "Data: 2\n",
            "Data: 9\n"
          ]
        }
      ]
    },
    {
      "cell_type": "code",
      "metadata": {
        "colab": {
          "base_uri": "https://localhost:8080/"
        },
        "id": "Xr9qhhxctMwl",
        "outputId": "b53c33d8-2dee-402e-e491-48a4de04ed81"
      },
      "source": [
        "values = int(input(\"How many subjects are you taking? \"))\n",
        "subjects = []\n",
        "total = 0\n",
        "for i in range(0,values):\n",
        "    x = int(input(\"Write your qualifications:  \"))\n",
        "    subjects.append(x)\n",
        "    total += x\n",
        "print(\"This is your qualifications: \")\n",
        "\n",
        "for subject in subjects:\n",
        "    print(subject, end = ' ')\n",
        "\n",
        "grade_point_average= total/values\n",
        "\n",
        "print(f\"\\n\\nYou grade point average is = {grade_point_average}\")"
      ],
      "execution_count": 13,
      "outputs": [
        {
          "output_type": "stream",
          "name": "stdout",
          "text": [
            "How many subjects are you taking? 4\n",
            "Write your qualifications:  8\n",
            "Write your qualifications:  9\n",
            "Write your qualifications:  10\n",
            "Write your qualifications:  10\n",
            "This is your qualifications: \n",
            "8 9 10 10 \n",
            "\n",
            "You grade point average is = 9.25\n"
          ]
        }
      ]
    }
  ]
}